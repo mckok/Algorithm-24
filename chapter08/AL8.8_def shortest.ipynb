{
 "cells": [
  {
   "cell_type": "markdown",
   "metadata": {},
   "source": [
    "Dijkstra의 최단경로 알고리즘"
   ]
  },
  {
   "cell_type": "markdown",
   "metadata": {},
   "source": [
    "다른 모든 정점까지의 최단경로 거리와 그 경로를 구하는 알고리즘"
   ]
  },
  {
   "cell_type": "markdown",
   "metadata": {},
   "source": [
    "![poster](8.5%20손.jpg)\n"
   ]
  },
  {
   "cell_type": "markdown",
   "metadata": {},
   "source": [
    "1행: 정점 리스트와 인접 행렬, 그리고 시작 정점의 인덱스가 입력된다.  \n",
    "3~4행: 인접 행렬의 start번째 행을 그대로 dist에 복사한다. 리스트의 복사 방법에 유의하라. 시작 정점의 dist는 0이다.  \n",
    "5행: 최단경로의 거리뿐 아니라 경로 자체를 구하기 위해 path 리스트를 추가하고 초기화 한다.  \n",
    "6~7행: 정점의 확정 여부를 나타내는 found 배열을 생성하고 초기화 하낟.  \n",
    "11행: 확정되지 않은 정점 중에 dist가 최소인 정점 u를 찾는다. 이때, 알고리즘 8.5를 사용한다.  \n",
    "14~18행: 확정되지 않은 정점중에서 dist 갱신 조건을 갱신한다.  \n",
    "20행: 찾아진 최단경로를 반환한다."
   ]
  },
  {
   "cell_type": "code",
   "execution_count": null,
   "metadata": {},
   "outputs": [],
   "source": [
    "def shortest_path_dijkstra(vtx, adj, start):\n",
    "    vsize = len(vtx)\n",
    "    dist = list(adj[start])\n",
    "    dist[start] = 0\n",
    "    path = [start] * vsize\n",
    "    found = [False] * vsize\n",
    "    found[start] = True\n",
    "    \n",
    "    for i in range(vsize):\n",
    "        print(\"Step%2d: \" % (i + 1), dist)\n",
    "        u = getMinVertex(dist, found)\n",
    "        found[u] = True\n",
    "        \n",
    "        for w in range(vsize):\n",
    "            if not found[w] and adj[u][w] != INF:\n",
    "                if dist[u] + adj[u][w] < dist[w]:\n",
    "                    dist[w] = dist[u] + adj[u][w]\n",
    "                    path[w] = u\n",
    "                   \n",
    "    return path"
   ]
  },
  {
   "cell_type": "code",
   "execution_count": null,
   "metadata": {},
   "outputs": [],
   "source": [
    "INF = float('inf')\n",
    "\n",
    "def getMinVertex(dist, found):\n",
    "    minDist = INF\n",
    "    minVertex = -1\n",
    "    for v in range(len(dist)):\n",
    "        if not found[v] and dist[v] < minDist:\n",
    "            minDist = dist[v]\n",
    "            minVertex = v\n",
    "    return minVertex\n",
    "\n",
    "def shortest_path_dijkstra(vtx, adj, start):\n",
    "    vsize = len(vtx)\n",
    "    dist = list(adj[start])\n",
    "    dist[start] = 0\n",
    "    path = [start] * vsize\n",
    "    found = [False] * vsize\n",
    "    found[start] = True\n",
    "    \n",
    "    for i in range(vsize):\n",
    "        print(\"Step%2d: \" % (i + 1), dist)\n",
    "        u = getMinVertex(dist, found)\n",
    "        found[u] = True\n",
    "        \n",
    "        for w in range(vsize):\n",
    "            if not found[w] and adj[u][w] != INF:\n",
    "                if dist[u] + adj[u][w] < dist[w]:\n",
    "                    dist[w] = dist[u] + adj[u][w]\n",
    "                    path[w] = u\n",
    "                   \n",
    "    return path\n",
    "\n",
    "vertex = ['A', 'B', 'C', 'D', 'E', 'F', 'G']\n",
    "weight = [\n",
    "    [0, 7, INF, INF, 3, 10, INF],\n",
    "    [7, 0, 4, 10, 2, 6, INF],\n",
    "    [INF, 4, 0, 2, INF, INF, INF],\n",
    "    [INF, 10, 2, 0, 11, 9, 4],\n",
    "    [3, 2, INF, 11, 0, 13, 5],\n",
    "    [10, 6, INF, 9, 13, 0, INF],\n",
    "    [INF, INF, INF, 4, 5, INF, 0]\n",
    "]\n",
    "\n",
    "print(\"Shortest Path By Dijkstra Algorithm\")\n",
    "start = 0\n",
    "path = shortest_path_dijkstra(vertex, weight, start)\n",
    "for end in range(len(vertex)):\n",
    "    if end != start:\n",
    "        print(\"[최단경로: %s->%s] %s\" % (vertex[start], vertex[end], vertex[end]), end='')\n",
    "        trace = end\n",
    "        while path[trace] != start:\n",
    "            print(\" <- %s\" % vertex[path[trace]], end='')\n",
    "            trace = path[trace]\n",
    "        print(\" <- %s\" % vertex[start])\n"
   ]
  },
  {
   "cell_type": "markdown",
   "metadata": {},
   "source": [
    "![poster](8.8%20실행코드.png)"
   ]
  },
  {
   "cell_type": "markdown",
   "metadata": {},
   "source": [
    "복잡도는 O(n^2)이다"
   ]
  }
 ],
 "metadata": {
  "language_info": {
   "name": "python"
  }
 },
 "nbformat": 4,
 "nbformat_minor": 2
}
