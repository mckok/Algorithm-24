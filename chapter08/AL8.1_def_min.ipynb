{
 "cells": [
  {
   "cell_type": "markdown",
   "metadata": {},
   "source": [
    "거스름돈 동전 최소화"
   ]
  },
  {
   "cell_type": "markdown",
   "metadata": {},
   "source": [
    "거스름돈 최소화 알고리즘은 가장 큰 단위의 동전부터 차례로 선택해 남은 금액을 줄이며 최적의 해를 찾는 방법인 탐욕적 기법을 사용했음"
   ]
  },
  {
   "cell_type": "markdown",
   "metadata": {},
   "source": [
    "2행 : 각 동전의 개수 저장  \n",
    "4행 : 현재 액면가의 최대 사용 가능 개수  \n",
    "6행 : 남은 거스름돈 계산"
   ]
  },
  {
   "cell_type": "markdown",
   "metadata": {},
   "source": [
    "![poster](8.1%20손.png)"
   ]
  },
  {
   "cell_type": "code",
   "execution_count": null,
   "metadata": {},
   "outputs": [],
   "source": [
    "def min_coins_greedy(coins,V):\n",
    "    count = []                     \n",
    "    for i in range(len(coins)):\n",
    "        cnt = V // coins[i]         \n",
    "        count.append(cnt)\n",
    "        V -= cnt * coins[i]        \n",
    "    return count    "
   ]
  },
  {
   "cell_type": "code",
   "execution_count": null,
   "metadata": {},
   "outputs": [],
   "source": [
    "def min_coins_greedy(coins,V):\n",
    "    count = []                      # 각 동전의 개수 저장\n",
    "    for i in range(len(coins)):\n",
    "        cnt = V // coins[i]         # 현재 액면가의 최대 사용 가능 개수\n",
    "        count.append(cnt)\n",
    "        V -= cnt * coins[i]         # 남은 거스름돈 계산\n",
    "    return count    \n",
    "\n",
    "coins = [500, 100, 50, 10, 5, 1]\n",
    "V = 580\n",
    "print(\"잔돈 액수 =\", V)\n",
    "print(\"동전 종류 =\", coins)\n",
    "print(\"동전 개수 =\", min_coins_greedy(coins,V))"
   ]
  },
  {
   "cell_type": "markdown",
   "metadata": {},
   "source": [
    "![poster](8.1%20실행코드.png)"
   ]
  },
  {
   "cell_type": "markdown",
   "metadata": {},
   "source": [
    "시간 복잡도는 O(m)이다.  "
   ]
  }
 ],
 "metadata": {
  "language_info": {
   "name": "python"
  }
 },
 "nbformat": 4,
 "nbformat_minor": 2
}
