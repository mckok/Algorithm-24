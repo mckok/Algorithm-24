{
 "cells": [
  {
   "cell_type": "markdown",
   "metadata": {},
   "source": [
    "Prim의 최소비용 신장트리 알고리즘"
   ]
  },
  {
   "cell_type": "markdown",
   "metadata": {},
   "source": [
    "거리가 가장 작은 정점의 인덱스를 찾기 위한 알고리즘"
   ]
  },
  {
   "cell_type": "markdown",
   "metadata": {},
   "source": [
    "![poster](8.5%20손.jpg)"
   ]
  },
  {
   "cell_type": "markdown",
   "metadata": {},
   "source": [
    "1행: 정점 리스트 vertex와 인접 행렬 adj를 입력한다.  \n",
    "3~5행: dist와 selected 배열을 생성하고 초기화한다.  \n",
    "8~9행: dist가 최소인 정점 u를 찾고, selected[u]를 True로 갱신한다.  \n",
    "10~11행: 선택된 정점을 출력하고, 현재 dist 배열의 내용을 출력한다.  \n",
    "13~16행: 선택되지 않은 모든 정점 v에 대해 u와 간선 (u,v)로 연결되어 있고 가중치가 dist[v]보다 작으면 dist[v]를 갱신한다."
   ]
  },
  {
   "cell_type": "code",
   "execution_count": null,
   "metadata": {},
   "outputs": [],
   "source": [
    "def MSTPrim(vertex, adj):\n",
    "    vsize = len(vertex)\n",
    "    dist = [INF] * vsize\n",
    "    dist[0] = 0\n",
    "    selected = [False] * vsize\n",
    "\n",
    "    for i in range(vsize):\n",
    "        u = getMinVertex(dist, selected)\n",
    "        selected[u] = True\n",
    "        print(vertex[u], end=': ')\n",
    "        print(dist)\n",
    "\n",
    "        for v in range(vsize):\n",
    "            if adj[u][v] is not None:\n",
    "                if not selected[v] and adj[u][v] < dist[v]:\n",
    "                    dist[v] = adj[u][v]"
   ]
  },
  {
   "cell_type": "code",
   "execution_count": null,
   "metadata": {},
   "outputs": [],
   "source": [
    "INF = float('inf')\n",
    "\n",
    "def getMinVertex(dist, selected):\n",
    "    minDist = INF\n",
    "    minVertex = -1\n",
    "    for v in range(len(dist)):\n",
    "        if not selected[v] and dist[v] < minDist:\n",
    "            minDist = dist[v]\n",
    "            minVertex = v\n",
    "    return minVertex\n",
    "\n",
    "def MSTPrim(vertex, adj):\n",
    "    vsize = len(vertex)\n",
    "    dist = [INF] * vsize\n",
    "    dist[0] = 0\n",
    "    selected = [False] * vsize\n",
    "\n",
    "    for i in range(vsize):\n",
    "        u = getMinVertex(dist, selected)\n",
    "        selected[u] = True\n",
    "        print(vertex[u], end=': ')\n",
    "        print(dist)\n",
    "\n",
    "        for v in range(vsize):\n",
    "            if adj[u][v] is not None:\n",
    "                if not selected[v] and adj[u][v] < dist[v]:\n",
    "                    dist[v] = adj[u][v]\n",
    "\n",
    "vertex = ['A', 'B', 'C', 'D', 'E', 'F', 'G']\n",
    "weight = [\n",
    "    [None, 29, None, None, None, 10, None],\n",
    "    [29, None, 16, None, None, None, 15],\n",
    "    [None, 16, None, 12, None, None, None],\n",
    "    [None, None, 12, None, 22, None, 18],\n",
    "    [None, None, None, 22, None, 27, 25],\n",
    "    [10, None, None, None, 27, None, None],\n",
    "    [None, 15, None, 18, 25, None, None]\n",
    "]\n",
    "\n",
    "print(\"MST By Prim's Algorithm\")\n",
    "MSTPrim(vertex, weight)\n"
   ]
  },
  {
   "cell_type": "markdown",
   "metadata": {},
   "source": [
    "![poster](8.5%20실행코드.png)"
   ]
  },
  {
   "cell_type": "markdown",
   "metadata": {},
   "source": [
    "복잡도는 O(n^2) 이다."
   ]
  }
 ],
 "metadata": {
  "language_info": {
   "name": "python"
  }
 },
 "nbformat": 4,
 "nbformat_minor": 2
}
