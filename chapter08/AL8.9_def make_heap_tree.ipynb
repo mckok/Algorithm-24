{
 "cells": [
  {
   "cell_type": "markdown",
   "metadata": {},
   "source": [
    "허프만 트리 생성 알고리즘"
   ]
  },
  {
   "cell_type": "markdown",
   "metadata": {},
   "source": [
    "트지 중에서 루트 값이 가장 작은 트리 2개를 반복적으로 찾아야 한다. 이때 우선순위 큐를 이용하면 효과적인데, 항목을 넣은 순서와 상관없이 꺼낼때에는 항상 우선순위가 가장 높은 항목을 먼저 꺼낸다."
   ]
  },
  {
   "cell_type": "markdown",
   "metadata": {},
   "source": [
    "![poster](8.9%20손.jpg)"
   ]
  },
  {
   "cell_type": "markdown",
   "metadata": {},
   "source": [
    "1행: 파이썬의 우선순위 큐 모듈을 사용하기 위해 포함한다.  \n",
    "4~6행: 힙에 모든 (빈도, 문자)를 넣기 위한 코드이다. heapq 모듈의 heappush() 함수의 사용법에 유의하라. 힙 데이터를 저장하는 리스트와 하나의 엔트리가 제공되어야 한다.  \n",
    "8행: n-1번 반복하면 최종 허프만 트리가 만들어진다.  \n",
    "9~10행: 우선순위가 가장 높은 두 개의 e1, e2를 꺼낸다. heappush() 함수의 사용법에 유의하라.  \n",
    "11행: e1과 e2를 병합하여 다시 힙에 삽입한다. 이때 힙에 들어가는 엔트리는 (루트값의 합, 문자들의 합)이 된다.  \n",
    "14행: 최종적으로 힙에는 하나의 루투 노드만 남아 있다. 이를 출력한다."
   ]
  },
  {
   "cell_type": "code",
   "execution_count": null,
   "metadata": {},
   "outputs": [],
   "source": [
    "import heapq\n",
    "def make_heap_tree(freq, label):\n",
    "    n = len(freq)\n",
    "    h = []\n",
    "    \n",
    "   \n",
    "    for i in range(n):\n",
    "        heapq.heappush(h, (freq[i], label[i]))\n",
    "        \n",
    "    \n",
    "    for i in range(1, n):\n",
    "        e1 = heapq.heappop(h)\n",
    "        e2 = heapq.heappop(h)\n",
    "        heapq.heappush(h, (e1[0] + e2[0], e1[1] + e2[1]))\n",
    "        print(e1, \"+\", e2)\n",
    "        \n",
    "   \n",
    "    print(heapq.heappop(h))"
   ]
  },
  {
   "cell_type": "code",
   "execution_count": null,
   "metadata": {},
   "outputs": [],
   "source": [
    "import heapq\n",
    "def make_heap_tree(freq, label):\n",
    "    n = len(freq)\n",
    "    h = []\n",
    "    \n",
    "   \n",
    "    for i in range(n):\n",
    "        heapq.heappush(h, (freq[i], label[i]))\n",
    "        \n",
    "    \n",
    "    for i in range(1, n):\n",
    "        e1 = heapq.heappop(h)\n",
    "        e2 = heapq.heappop(h)\n",
    "        heapq.heappush(h, (e1[0] + e2[0], e1[1] + e2[1]))\n",
    "        print(e1, \"+\", e2)\n",
    "        \n",
    "   \n",
    "    print(heapq.heappop(h))\n",
    "\n",
    "\n",
    "label = ['A', 'B', 'C', 'D', 'E', 'F', 'G', 'H']\n",
    "freq = [24, 3, 8, 10, 33, 6, 4, 12]\n",
    "make_heap_tree(freq, label)\n"
   ]
  },
  {
   "cell_type": "markdown",
   "metadata": {},
   "source": [
    "![poster](8.9%20실행코드.png)"
   ]
  },
  {
   "cell_type": "markdown",
   "metadata": {},
   "source": [
    "복잡도는 O(log2n)이다."
   ]
  }
 ],
 "metadata": {
  "language_info": {
   "name": "python"
  }
 },
 "nbformat": 4,
 "nbformat_minor": 2
}
