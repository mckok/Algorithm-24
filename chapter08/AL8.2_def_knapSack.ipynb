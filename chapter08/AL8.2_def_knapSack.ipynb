{
 "cells": [
  {
   "cell_type": "markdown",
   "metadata": {},
   "source": [
    "분할 가능한 배낭채우기"
   ]
  },
  {
   "cell_type": "markdown",
   "metadata": {},
   "source": [
    "물건들의 리스트가 입력되면 먼저 무게당 가치의 내림차순으로 정렬하고, 무게 당 가치가 가장 높은 것부터 탐욕적으로 배낭에 넣으면 된다."
   ]
  },
  {
   "cell_type": "markdown",
   "metadata": {},
   "source": [
    "![poster](./8.2%20손.jpg)"
   ]
  },
  {
   "cell_type": "markdown",
   "metadata": {},
   "source": [
    "1행: W는 배낭의 용량이고, obj는 물건들의 리스트인데, 물건들 파이썬의 튜플로의 형태를 갖는다. 예를 들어, 그림 8.6의 경우 obj = [ (\"금가루\", 12, 120), (\"희토류\", 10, 80), (\"화성 흙\", 8, 60억) ]이 된다"
   ]
  },
  {
   "cell_type": "code",
   "execution_count": null,
   "metadata": {},
   "outputs": [],
   "source": [
    "def knapSack_fractional_greedy(obj, W):\n",
    "    obj.sort(key = lambda o: o[2]/o[1], reverse=True)\n",
    "    \n",
    "    totalValue = 0\n",
    "    for o in obj :\n",
    "        if W <= 0 : break\n",
    "        if W - o[1] >= 0:\n",
    "            W-= o[1]\n",
    "            totalValue += o[2]\n",
    "        else:\n",
    "            fraction = W / o[1]\n",
    "            totalValue += o[2] * fraction\n",
    "            W = int(W - (o[1] * fraction))\n",
    "            \n",
    "    return totalValue\n",
    "\n"
   ]
  },
  {
   "cell_type": "code",
   "execution_count": null,
   "metadata": {},
   "outputs": [],
   "source": [
    "def knapSack_fractional_greedy(obj, W):\n",
    "    obj.sort(key = lambda o: o[2]/o[1], reverse=True)\n",
    "    \n",
    "    totalValue = 0\n",
    "    for o in obj :\n",
    "        if W <= 0 : break\n",
    "        if W - o[1] >= 0:\n",
    "            W-= o[1]\n",
    "            totalValue += o[2]\n",
    "        else:\n",
    "            fraction = W / o[1]\n",
    "            totalValue += o[2] * fraction\n",
    "            W = int(W - (o[1] * fraction))\n",
    "            \n",
    "    return totalValue\n",
    "obj = [ (\"A\", 10, 80), (\"B\", 12, 120), (\"C\", 8, 60)]\n",
    "print(\"W = 18\", obj)\n",
    "print(\"부분적인배낭(18): \", knapSack_fractional_greedy(obj,18), end='\\n\\n')\n",
    "\n",
    "obj = [ (\"A\", 10, 60), (\"B\", 40, 40), (\"C\", 20, 100), (\"D\", 30, 120) ]\n",
    "print(\"W = 50\", obj)\n",
    "print(\"부분적인배낭(50): \", knapSack_fractional_greedy(obj,50))\n"
   ]
  },
  {
   "cell_type": "markdown",
   "metadata": {},
   "source": [
    "![poster](8.2%20실행코드.png)"
   ]
  },
  {
   "cell_type": "markdown",
   "metadata": {},
   "source": [
    "복잡도는 O(nlog2n)"
   ]
  }
 ],
 "metadata": {
  "language_info": {
   "name": "python"
  }
 },
 "nbformat": 4,
 "nbformat_minor": 2
}
