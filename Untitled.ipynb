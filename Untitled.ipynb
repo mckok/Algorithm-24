{
 "cells": [
  {
   "cell_type": "code",
   "execution_count": null,
   "id": "9753bd95",
   "metadata": {},
   "outputs": [],
   "source": [
    "4장 실습과제 보고서(예제 4.1)\n",
    "\n",
    "팩토리얼(하향식 축소 정복 기법)\n",
    "\n",
    "하향식은 보통 순환구조를 이용하고, 상향시은 반복구조로 표현하는 것이 자연스러운데, 상향식을 점증적 기법이라고 한다.\n",
    "\n",
    "![image.png](attachment:image.png)\n",
    "\n",
    "1절: 축소 정복 기법: 하향식 접근\n",
    "5절: 순환구조 이용\n",
    "\n",
    "def factorial_recur(n) :\n",
    "    if n == 1 :\n",
    "        return 1\n",
    "    else :\n",
    "        return (n * factorial_recur(n - 1))\n",
    "    \n",
    "\n",
    "def factorial_recur(n) :\n",
    "    if n == 1 :\n",
    "        return 1\n",
    "    else :\n",
    "        return (n * factorial_recur(n - 1))\n",
    "    \n",
    "   \n",
    "print(factorial_recur(5))\n",
    "\n",
    "![4.1.png](attachment:4.1.png)\n",
    "\n",
    "O(n)\n",
    "\n",
    "모르는거 서로 도와줌."
   ]
  }
 ],
 "metadata": {
  "kernelspec": {
   "display_name": "Python 3 (ipykernel)",
   "language": "python",
   "name": "python3"
  },
  "language_info": {
   "codemirror_mode": {
    "name": "ipython",
    "version": 3
   },
   "file_extension": ".py",
   "mimetype": "text/x-python",
   "name": "python",
   "nbconvert_exporter": "python",
   "pygments_lexer": "ipython3",
   "version": "3.11.4"
  }
 },
 "nbformat": 4,
 "nbformat_minor": 5
}
