{
 "cells": [
  {
   "cell_type": "markdown",
   "metadata": {},
   "source": [
    "선형 조사법의 삽입, 탐색, 삭제 알고리즘"
   ]
  },
  {
   "cell_type": "markdown",
   "metadata": {},
   "source": [
    "한번 충돌이 발생한 위치에서 연속적인 충돌이 집중되는 현상을 군집화라고 한다. 선형 조사법은 간단하지만 오버플로가 자주 발생하면 군집화 현상에 따라 탐색의 효율이 크게 저할될 수 있다."
   ]
  },
  {
   "cell_type": "markdown",
   "metadata": {},
   "source": [
    "![poster](./6.6손.jpg)"
   ]
  },
  {
   "cell_type": "markdown",
   "metadata": {},
   "source": [
    "1~2행: 크기가 m인 테이블을 만들고 Nono(항목 없음)으로 초기화한다.  \n",
    "3~4행: 해시 함수로 킷값을 M으로 나눈 나머지 연산을 사용한다.  \n",
    "7행: 킷값을 해시 함수에 적용해 해시 주소 id를 구한다.  \n",
    "9행: id번째 테이블이 비어있지 않으면 계속 다음 위치를 검사한다.  \n",
    "12행: 비어있는 버킷을 찾으면 키를 저장한다."
   ]
  },
  {
   "cell_type": "code",
   "execution_count": null,
   "metadata": {},
   "outputs": [],
   "source": [
    "M = 13\n",
    "NONE = None\n",
    "table = [NONE] * M\n",
    "\n",
    "def hashFn(key):\n",
    "    return key % M\n",
    "\n",
    "def lp_insert(key):\n",
    "    id = hashFn(key)\n",
    "    count = M\n",
    "    while count > 0 and (table[id] != NONE):\n",
    "        id = (id + 1) % M\n",
    "        count -= 1\n",
    "    if count > 0:\n",
    "        table[id] = key\n",
    "    return"
   ]
  },
  {
   "cell_type": "code",
   "execution_count": null,
   "metadata": {},
   "outputs": [],
   "source": [
    "M = 13\n",
    "NONE = None\n",
    "table = [NONE] * M\n",
    "\n",
    "def hashFn(key):\n",
    "    return key % M\n",
    "\n",
    "def lp_insert(key):\n",
    "    id = hashFn(key)\n",
    "    count = M\n",
    "    while count > 0 and (table[id] != NONE):\n",
    "        id = (id + 1) % M\n",
    "        count -= 1\n",
    "    if count > 0:\n",
    "        table[id] = key\n",
    "\n",
    "def lp_search(key):\n",
    "    id = hashFn(key)\n",
    "    count = M\n",
    "    while count > 0 :\n",
    "        if table[id] == None :\n",
    "            return None\n",
    "        if table[id] == key :\n",
    "            return table[id] \n",
    "        id = (id + 1 + M) % M\n",
    "        count -= 1\n",
    "    return None\n",
    "def lp_delete(key):\n",
    "    id = hashFn(key)\n",
    "    count = M\n",
    "    while count > 0 :\n",
    "        if table[id] == None : return\n",
    "        if table[id] != -1 and table[id] == key :\n",
    "            table[id] =-1\n",
    "            return\n",
    "        id = (id + 1 + M) % M\n",
    "        count -= 1\n",
    "\n",
    "print(\" 최초:\", table)\n",
    "lp_insert(45); print(\"45 삽입:\", table)\n",
    "lp_insert(27); print(\"27 삽입:\", table)\n",
    "lp_insert(88); print(\"88 삽입:\", table)\n",
    "lp_insert(9); print(\"9 삽입:\", table)\n",
    "lp_insert(71); print(\"71 삽입:\", table)\n",
    "lp_insert(60); print(\"60 삽입:\", table)\n",
    "lp_insert(46); print(\"46 삽입:\", table)\n",
    "lp_insert(38); print(\"38 삽입:\", table)\n",
    "lp_insert(24); print(\"24 삽입:\", table)\n",
    "lp_delete(60); print(\"60 삭제\", table)\n",
    "print(\"46 탐색:\", lp_search(46) )\n"
   ]
  },
  {
   "cell_type": "markdown",
   "metadata": {},
   "source": [
    "![poster](./6.6%20결과.png)"
   ]
  },
  {
   "cell_type": "markdown",
   "metadata": {},
   "source": [
    "복잡도 = O(1)"
   ]
  }
 ],
 "metadata": {
  "language_info": {
   "name": "python"
  }
 },
 "nbformat": 4,
 "nbformat_minor": 2
}
