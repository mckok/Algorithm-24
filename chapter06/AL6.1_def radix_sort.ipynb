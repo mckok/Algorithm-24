{
 "cells": [
  {
   "cell_type": "markdown",
   "metadata": {},
   "source": [
    "기수 정렬"
   ]
  },
  {
   "cell_type": "markdown",
   "metadata": {},
   "source": [
    "먼저 BUCKETS개의 공백 큐를 만드는 것으로 시작한다. 그리고 가장 낮은 자릿수부터 순서대로 DIGITS번의 패스를 통해 항목들을 큐에 넣고 빼는 동작을 반복한다."
   ]
  },
  {
   "cell_type": "markdown",
   "metadata": {},
   "source": [
    "![poster](./KakaoTalk_20240516_141154401.jpg)"
   ]
  },
  {
   "cell_type": "markdown",
   "metadata": {},
   "source": [
    "1행: from ~ import 문장을 이용하여 queue 모듈의 클래스 Queue를 queue.Queue가 아니라 5행에서처럼 Queue로 바로 사용할 수 있도록 하였다.  \n",
    "3~5행: 필요한 큐의 리스트를 준비한다. BUCKETS개의 공백 큐를 만들었다.  \n",
    "8행: 1의 자리부터 큰 자리로 올라가면서 정렬해야 한다.  \n",
    "11행: 버킷의 위치를 계산하고 그 버킷에 숫자를 넣는다.  \n",
    "13~16행: 모든 버킷에서 숫자를 순서대로 꺼내 원래의 리스트에 저장한다.  \n",
    "17행: 이제 다음 자릿수를 처리한다.  \n",
    "18행: 현재 리스트의 내용을 보여주기 위한 임시 코드이다."
   ]
  },
  {
   "cell_type": "code",
   "execution_count": null,
   "metadata": {},
   "outputs": [],
   "source": [
    "from queue import Queue\n",
    "\n",
    "def radix_sort(A):\n",
    "    queues = []\n",
    "    for i in range(BUCKETS):\n",
    "        queues.append(Queue())\n",
    "\n",
    "    n = len(A)\n",
    "    factor = 1\n",
    "    for d in range(DIGITS):\n",
    "        for i in range(n):\n",
    "            queues[(A[i] // factor) % BUCKETS].put(A[i])\n",
    "        j = 0\n",
    "        for b in range(BUCKETS):\n",
    "            while not queues[b].empty():\n",
    "                A[j] = queues[b].get()\n",
    "                j += 1\n",
    "        factor *= BUCKETS\n",
    "        print(\"step\", d + 1, A)\n"
   ]
  },
  {
   "cell_type": "code",
   "execution_count": null,
   "metadata": {},
   "outputs": [],
   "source": [
    "from queue import Queue\n",
    "\n",
    "def radix_sort(A):\n",
    "    queues = []\n",
    "    for i in range(BUCKETS):\n",
    "        queues.append(Queue())\n",
    "\n",
    "    n = len(A)\n",
    "    factor = 1\n",
    "    for d in range(DIGITS):\n",
    "        for i in range(n):\n",
    "            queues[(A[i] // factor) % BUCKETS].put(A[i])\n",
    "        j = 0\n",
    "        for b in range(BUCKETS):\n",
    "            while not queues[b].empty():\n",
    "                A[j] = queues[b].get()\n",
    "                j += 1\n",
    "        factor *= BUCKETS\n",
    "        print(\"step\", d + 1, A)\n",
    "\n",
    "import random\n",
    "\n",
    "BUCKETS = 10\n",
    "DIGITS = 4\n",
    "data = []\n",
    "for i in range(10):\n",
    "    data.append(random.randint(1, 9999))\n",
    "\n",
    "print(\"Initial Data:\", data)\n",
    "radix_sort(data)\n",
    "print(\"Radix Sorted Data:\", data)"
   ]
  },
  {
   "cell_type": "markdown",
   "metadata": {},
   "source": [
    "![poster](./스크린샷%202024-05-16%20141840.png)"
   ]
  },
  {
   "cell_type": "markdown",
   "metadata": {},
   "source": [
    "시간 복잡도는O(d*n) 이고 공간 복잡도는 O(n) 이다."
   ]
  }
 ],
 "metadata": {
  "language_info": {
   "name": "python"
  }
 },
 "nbformat": 4,
 "nbformat_minor": 2
}
