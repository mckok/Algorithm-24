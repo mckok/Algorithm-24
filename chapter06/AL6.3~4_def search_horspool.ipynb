{
 "cells": [
  {
   "cell_type": "markdown",
   "metadata": {},
   "source": [
    "호스플 알고리즘"
   ]
  },
  {
   "cell_type": "markdown",
   "metadata": {},
   "source": [
    "억지 기법과는 달리 이 알고리즘은 경혐적인 전략들을 이용한다."
   ]
  },
  {
   "cell_type": "markdown",
   "metadata": {},
   "source": [
    "![poster](./6.3~4%20손.jpg)\n"
   ]
  },
  {
   "cell_type": "markdown",
   "metadata": {},
   "source": [
    "6.3  \n",
    "4행: 크기가 NO_DF_CHARS인 리스트를 만들고, 모든 항목을 m으로 채운다. 이것은 일단 모든 문자는 패턴에 없고 생각하는 것 이다.  \n",
    "6~7행: 패턴의 모든 문자에 대해 테이블의 해당 위치의 이동거리를 계산해 넣는다. 만약 패턴에 중목된 문자가 있다면 맨 오른쪽 문자에 의한 최종적으로 들어간다.  \n"
   ]
  },
  {
   "cell_type": "code",
   "execution_count": null,
   "metadata": {},
   "outputs": [],
   "source": [
    "NO_OF_CHARS = 128\n",
    "\n",
    "def shift_table(pat):\n",
    "    m = len(pat)\n",
    "    tbl = [m] * NO_OF_CHARS\n",
    "\n",
    "    for i in range(m - 1):\n",
    "        tbl[ord(pat[i])] = m - 1 - i\n",
    "\n",
    "    return tbl\n",
    "\n",
    "def search_horspool(text, pat):\n",
    "    m = len(pat)\n",
    "    n = len(text)\n",
    "    tbl = shift_table(pat)\n",
    "    \n",
    "    i = m - 1\n",
    "\n",
    "    while i < n:\n",
    "        k = 0\n",
    "        while k < m and pat[m - 1 - k] == text[i - k]:\n",
    "            k += 1\n",
    "        \n",
    "        if k == m:\n",
    "            return i - m + 1\n",
    "        else:\n",
    "            i += tbl[ord(text[i])]\n",
    "    \n",
    "    return -1"
   ]
  },
  {
   "cell_type": "code",
   "execution_count": null,
   "metadata": {},
   "outputs": [],
   "source": [
    "NO_OF_CHARS = 128\n",
    "\n",
    "def shift_table(pat):\n",
    "    m = len(pat)\n",
    "    tbl = [m] * NO_OF_CHARS\n",
    "\n",
    "    for i in range(m - 1):\n",
    "        tbl[ord(pat[i])] = m - 1 - i\n",
    "\n",
    "    return tbl\n",
    "\n",
    "def search_horspool(text, pat):\n",
    "    m = len(pat)\n",
    "    n = len(text)\n",
    "    tbl = shift_table(pat)\n",
    "    \n",
    "    i = m - 1\n",
    "\n",
    "    while i < n:\n",
    "        k = 0\n",
    "        while k < m and pat[m - 1 - k] == text[i - k]:\n",
    "            k += 1\n",
    "        \n",
    "        if k == m:\n",
    "            return i - m + 1\n",
    "        else:\n",
    "            i += tbl[ord(text[i])]\n",
    "    \n",
    "    return -1\n",
    "print(\"패턴의 위치:\", search_horspool(\"APPLEMANGOBANANAGRAPE\", \"BANAN\"))\n",
    "\n"
   ]
  },
  {
   "cell_type": "markdown",
   "metadata": {},
   "source": [
    "![poster](6.3~4%20결과.png)"
   ]
  },
  {
   "cell_type": "markdown",
   "metadata": {},
   "source": [
    "O(mn)"
   ]
  }
 ],
 "metadata": {
  "language_info": {
   "name": "python"
  }
 },
 "nbformat": 4,
 "nbformat_minor": 2
}
