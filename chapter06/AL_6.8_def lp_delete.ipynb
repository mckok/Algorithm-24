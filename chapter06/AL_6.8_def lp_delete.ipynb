{
 "cells": [
  {
   "cell_type": "markdown",
   "metadata": {},
   "source": [
    "선형 조사법의 삭제 알고리즘"
   ]
  },
  {
   "cell_type": "markdown",
   "metadata": {},
   "source": [
    "한 번도 사용하지 않은 것과 사용되었다가 삭제되어 현재 비어있는 버킷으로 나누어야 한다. "
   ]
  },
  {
   "cell_type": "markdown",
   "metadata": {},
   "source": [
    "![poster](./6.8예제.jpg)"
   ]
  },
  {
   "cell_type": "markdown",
   "metadata": {},
   "source": [
    "6행: 해당 버킷에 찾는 키가 있으면 이제 그 항목을 삭제한다. 이때,None으로 처리하지 않고 -1로 처리하였다. 이것은 사용되었다가 삭제된 버킷을 의미하는 것이다."
   ]
  },
  {
   "cell_type": "code",
   "execution_count": null,
   "metadata": {},
   "outputs": [],
   "source": [
    "def lp_delete(key):\n",
    "    id = hashFn(key)\n",
    "    count = M\n",
    "    while count > 0 :\n",
    "        if table[id] == None : return\n",
    "        if table[id] != -1 and table[id] == key :\n",
    "            table[id] =-1\n",
    "            return\n",
    "        id = (id + 1 + M) % M\n",
    "        count -= 1"
   ]
  },
  {
   "cell_type": "code",
   "execution_count": null,
   "metadata": {},
   "outputs": [],
   "source": [
    "M = 13\n",
    "NONE = None\n",
    "table = [NONE] * M\n",
    "\n",
    "def hashFn(key):\n",
    "    return key % M\n",
    "\n",
    "def lp_insert(key):\n",
    "    id = hashFn(key)\n",
    "    count = M\n",
    "    while count > 0 and (table[id] != NONE):\n",
    "        id = (id + 1) % M\n",
    "        count -= 1\n",
    "    if count > 0:\n",
    "        table[id] = key\n",
    "\n",
    "def lp_search(key):\n",
    "    id = hashFn(key)\n",
    "    count = M\n",
    "    while count > 0 :\n",
    "        if table[id] == None :\n",
    "            return None\n",
    "        if table[id] == key :\n",
    "            return table[id] \n",
    "        id = (id + 1 + M) % M\n",
    "        count -= 1\n",
    "    return None\n",
    "def lp_delete(key):\n",
    "    id = hashFn(key)\n",
    "    count = M\n",
    "    while count > 0 :\n",
    "        if table[id] == None : return\n",
    "        if table[id] != -1 and table[id] == key :\n",
    "            table[id] =-1\n",
    "            return\n",
    "        id = (id + 1 + M) % M\n",
    "        count -= 1\n",
    "\n",
    "print(\" 최초:\", table)\n",
    "lp_insert(45); print(\"45 삽입:\", table)\n",
    "lp_insert(27); print(\"27 삽입:\", table)\n",
    "lp_insert(88); print(\"88 삽입:\", table)\n",
    "lp_insert(9); print(\"9 삽입:\", table)\n",
    "lp_insert(71); print(\"71 삽입:\", table)\n",
    "lp_insert(60); print(\"60 삽입:\", table)\n",
    "lp_insert(46); print(\"46 삽입:\", table)\n",
    "lp_insert(38); print(\"38 삽입:\", table)\n",
    "lp_insert(24); print(\"24 삽입:\", table)\n",
    "lp_delete(60); print(\"60 삭제\", table)\n",
    "print(\"46 탐색:\", lp_search(46) )\n"
   ]
  },
  {
   "cell_type": "markdown",
   "metadata": {},
   "source": [
    "![poster](./6.6%20결과.png)"
   ]
  },
  {
   "cell_type": "markdown",
   "metadata": {},
   "source": [
    "복잡도 = O(1)"
   ]
  }
 ],
 "metadata": {
  "language_info": {
   "name": "python"
  }
 },
 "nbformat": 4,
 "nbformat_minor": 2
}
