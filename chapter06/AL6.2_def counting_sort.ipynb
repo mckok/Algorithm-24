{
 "cells": [
  {
   "cell_type": "markdown",
   "metadata": {},
   "source": [
    "카운팅 정렬"
   ]
  },
  {
   "cell_type": "markdown",
   "metadata": {},
   "source": [
    "정렬된 결과의 임시 저장을 위한 리스트output의 크기는 입력 리스트와 같다."
   ]
  },
  {
   "cell_type": "markdown",
   "metadata": {},
   "source": [
    "![poster](./6.2%20손.jpg)"
   ]
  },
  {
   "cell_type": "markdown",
   "metadata": {},
   "source": [
    "2햬; 정렬 결과저장용 임시 리스트  \n",
    "3행: 각 숫자의 빈도를 저장  \n",
    "5행: 각 숫자별 빈도를 계산  \n",
    "9행: 해당 숫자의 위치가 되도록 수정  \n",
    "12행: 해당 위치(count[A[i]]-1)에 저장  \n",
    "13행: 킷값 A[i]의 위치를 하나 줄임  \n",
    "15행: 정렬 결과를 원래 배열에 복사"
   ]
  },
  {
   "cell_type": "code",
   "execution_count": null,
   "metadata": {},
   "outputs": [],
   "source": [
    "def counting_sort(A):\n",
    "    output = [0] * len(A)\n",
    "    count = [0] * (MAX_VAL + 1) \n",
    "\n",
    "    for i in A:\n",
    "        count[i] += 1\n",
    "\n",
    "    for i in range(1, MAX_VAL + 1):\n",
    "        count[i] += count[i - 1]\n",
    "\n",
    "    for i in range(len(A) - 1, -1, -1): \n",
    "        output[count[A[i]] - 1] = A[i]\n",
    "        count[A[i]] -= 1\n",
    "\n",
    "    for i in range(len(A)):\n",
    "        A[i] = output[i]\n"
   ]
  },
  {
   "cell_type": "code",
   "execution_count": null,
   "metadata": {},
   "outputs": [],
   "source": [
    "def counting_sort(A):\n",
    "    output = [0] * len(A)\n",
    "    count = [0] * (MAX_VAL + 1) \n",
    "\n",
    "    for i in A:\n",
    "        count[i] += 1\n",
    "\n",
    "    for i in range(1, MAX_VAL + 1):\n",
    "        count[i] += count[i - 1]\n",
    "\n",
    "    for i in range(len(A) - 1, -1, -1): \n",
    "        output[count[A[i]] - 1] = A[i]\n",
    "        count[A[i]] -= 1\n",
    "\n",
    "    for i in range(len(A)):\n",
    "        A[i] = output[i]\n",
    "\n",
    "MAX_VAL = 10\n",
    "data = [1, 4, 1, 2, 7, 5, 2]\n",
    "print(\"Original:\", data)\n",
    "counting_sort(data)\n",
    "print(\"Counting:\", data)"
   ]
  },
  {
   "cell_type": "markdown",
   "metadata": {},
   "source": [
    "![image.png](./6.2%20결과.png)"
   ]
  },
  {
   "cell_type": "markdown",
   "metadata": {},
   "source": [
    "시간 복잡도는 O(n)이고, 공간 복잡도는 O(k+n)이다"
   ]
  }
 ],
 "metadata": {
  "language_info": {
   "name": "python"
  }
 },
 "nbformat": 4,
 "nbformat_minor": 2
}
