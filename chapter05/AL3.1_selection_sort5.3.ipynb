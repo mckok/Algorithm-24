{
 "cells": [
  {
   "cell_type": "markdown",
   "metadata": {},
   "source": [
    "퀵 정렬 알고리즘"
   ]
  },
  {
   "cell_type": "markdown",
   "metadata": {},
   "source": [
    "순환구조를 이용하면 퀵 정렬 알고리즘을 다음과 같이 간략히 기술할 수 있다. 입력 리스트인 A와 정렬 범위를 나타내는 left와 right가 매개변수로 전달된다."
   ]
  },
  {
   "cell_type": "markdown",
   "metadata": {},
   "source": [
    "![image](https://github.com/mckok/Algorithm-24/assets/162394183/d9038572-bb16-462c-a208-e0b448859d9f)\n"
   ]
  },
  {
   "cell_type": "markdown",
   "metadata": {},
   "source": [
    "2헹: 정렬할 항목이 2개 이상인 경우에 대해서만 처리한다. 항목이 1개이면 이미 정렬된 것이다.  \n",
    "3행: 분할 알고리즘을 이용해 리스트를 좌우로 분할한다. 이때 리스트가 균등하게 분할된다는 보자은 없다. 분할이 완료되면 피벗의 인덱스가 반환되어 mid에 복사된다.  \n",
    "4~5행: 왼쪽 부분 리스트 A[left..mid-1]와 오른쪽 부분 리스트 A[mid+1..right]를 각각 정렬한다."
   ]
  },
  {
   "cell_type": "code",
   "execution_count": null,
   "metadata": {},
   "outputs": [],
   "source": [
    "def quick_sort(A, left, right) :\n",
    "    if left<right :\n",
    "         mid = partition(A, left, right)\n",
    "         quick_sort(A, left, mid-1)\n",
    "         quick_sort(A, mid+1, right)"
   ]
  },
  {
   "cell_type": "code",
   "execution_count": null,
   "metadata": {},
   "outputs": [],
   "source": [
    "def partition(A, left, right) :\n",
    "    low = left + 1\n",
    "    high = right\n",
    "    pivot = A[left]\n",
    "    while (low <= high) :\n",
    "        while low <= right and A[low] <= pivot : low +=1\n",
    "        while high >= left and A[high]> pivot : high-= 1\n",
    "        \n",
    "        if low < high :\n",
    "            A[low], A[high] = A[high], A[low]\n",
    "            \n",
    "    A[left], A[high] = A[high], A[left]\n",
    "    return high\n",
    "def quick_sort(A, left, right) :\n",
    "    if left<right :\n",
    "         mid = partition(A, left, right)\n",
    "         quick_sort(A, left, mid-1)\n",
    "         quick_sort(A, mid+1, right)\n",
    "data = [ 5, 3, 8, 4, 9, 1, 6, 2, 7 ]\n",
    "print(\"Original : \", data)\n",
    "quick_sort(data, 0, len(data)-1)\n",
    "print(\"QuickSort :\", data)"
   ]
  },
  {
   "cell_type": "markdown",
   "metadata": {},
   "source": [
    "![스크린샷 2024-04-25 202844](https://github.com/mckok/Algorithm-24/assets/162394183/17554d6b-219f-4787-9c05-ee8ed0b9f716)\n"
   ]
  },
  {
   "cell_type": "markdown",
   "metadata": {},
   "source": [
    "O(nlog2n)"
   ]
  }
 ],
 "metadata": {
  "language_info": {
   "name": "python"
  }
 },
 "nbformat": 4,
 "nbformat_minor": 2
}
