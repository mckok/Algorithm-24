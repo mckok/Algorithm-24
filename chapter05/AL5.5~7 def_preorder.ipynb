{
 "cells": [
  {
   "cell_type": "markdown",
   "metadata": {},
   "source": [
    "이진트리의 전위, 중위, 후위 순회"
   ]
  },
  {
   "cell_type": "markdown",
   "metadata": {},
   "source": [
    "코드에서 print는 이진트리의 루트노드를 처리하는 문장인데, 여기서는 단순하게 노드의 data를 화면에 출력하였다."
   ]
  },
  {
   "cell_type": "markdown",
   "metadata": {},
   "source": [
    "![poster](./KakaoTalk_20240509_153151121.jpg)"
   ]
  },
  {
   "cell_type": "markdown",
   "metadata": {},
   "source": [
    "전위 순회  \n",
    "1행: 전위 순회 함수  \n",
    "3행: 먼저 루트노드 처리(화면출력)  \n",
    "4행: 왼쪽 서브 트리 처리  \n",
    "5행: 오른쪽 서브 트리 처리  \n",
    "중위 순회  \n",
    "1행: 중위 순회 함수  \n",
    "3행: 왼쪽 서브 트리 처리  \n",
    "4행: 루트노드 처리(화면출력)  \n",
    "5행: 오른쪽 서브 트리 처리 "
   ]
  },
  {
   "cell_type": "code",
   "execution_count": null,
   "metadata": {},
   "outputs": [],
   "source": [
    "def preorder(n) :\n",
    "    if n is not None :\n",
    "        print(n.data, end='  ')\n",
    "        preorder(n.left)\n",
    "        preorder(n.right)\n",
    "def inorder(n):\n",
    "    if n is not None:\n",
    "        inorder(n.left)\n",
    "        print(n.data, end='  ')\n",
    "        inorder(n.right)\n",
    "\n",
    "def postorder(n):\n",
    "    if n is not None:\n",
    "        postorder(n.left)\n",
    "        postorder(n.right)\n",
    "        print(n.data, end='  ')"
   ]
  },
  {
   "cell_type": "code",
   "execution_count": null,
   "metadata": {},
   "outputs": [],
   "source": [
    "class TNode:\n",
    "    def __init__(self, data, left=None, right=None):\n",
    "        self.data = data\n",
    "        self.left = left\n",
    "        self.right = right\n",
    "def preorder(n) :\n",
    "    if n is not None :\n",
    "        print(n.data, end='  ')\n",
    "        preorder(n.left)\n",
    "        preorder(n.right)\n",
    "def inorder(n):\n",
    "    if n is not None:\n",
    "        inorder(n.left)\n",
    "        print(n.data, end='  ')\n",
    "        inorder(n.right)\n",
    "\n",
    "def postorder(n):\n",
    "    if n is not None:\n",
    "        postorder(n.left)\n",
    "        postorder(n.right)\n",
    "        print(n.data, end='  ')\n",
    "        \n",
    "d = TNode('D', None, None)\n",
    "e = TNode('E', None, None)\n",
    "b = TNode('B', d, e)\n",
    "f = TNode('f', None, None)\n",
    "c = TNode('C', f, None)\n",
    "root = TNode('A', b, c)\n",
    "print('  In-order : ', end='')\n",
    "inorder(root)\n",
    "print()\n",
    "print('  Pre_Order : ', end='')\n",
    "preorder(root)\n",
    "print()\n",
    "print('  Post_Order : ', end='')\n",
    "postorder(root)\n",
    "print()"
   ]
  },
  {
   "cell_type": "markdown",
   "metadata": {},
   "source": [
    "![poster](./스크린샷%202024-05-09%20153718.png)"
   ]
  },
  {
   "cell_type": "markdown",
   "metadata": {},
   "source": [
    "복잡도 = O(n)"
   ]
  }
 ],
 "metadata": {
  "language_info": {
   "name": "python"
  }
 },
 "nbformat": 4,
 "nbformat_minor": 2
}
