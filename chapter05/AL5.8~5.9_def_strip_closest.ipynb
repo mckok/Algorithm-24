{
 "cells": [
  {
   "cell_type": "markdown",
   "metadata": {},
   "source": [
    "최근접 쌍의 거리 찾기"
   ]
  },
  {
   "cell_type": "markdown",
   "metadata": {},
   "source": [
    "먼저 P는 이미 x의 오름차순으로 정렬되어 있다고 가정한다. 만약 점이 3개 이하이면 억지 기법으로 바로 계산한다\n"
   ]
  },
  {
   "cell_type": "markdown",
   "metadata": {},
   "source": [
    "![poster](./5.8~5.9.jpg)"
   ]
  },
  {
   "cell_type": "markdown",
   "metadata": {},
   "source": [
    "알고리즘 5.8  \n",
    "2행: 리스트내의 점의 수  \n",
    "4행: y축을 따라 정렬  \n",
    "6행: y가 최소인 점부터 순서대로  \n",
    "14행: d_min 반환  \n",
    "알고리즘 5.9  \n",
    "2행: 점이 3개 이하이면, brute force로 바로 계산  \n",
    "3행: 억지 기법 알고리즘(알고리즘 3.4)  \n",
    "5행: 중앙점을 찾음. P는 현재 x로 정렬되어 있음  \n",
    "6행: 중앙점의 x좌표  \n",
    "8행: Pl에서 dl 계산  \n",
    "9행: Pr에서 dr 계산  \n",
    "10행: d는 둘 중에서 더 짧은 거리  \n",
    "12행: 중앙에서 x좌표가 d이내인 점들의 집합Pm을 만듦  \n",
    "13행: Pm도 x에 데헤 정렬되어 있음  \n",
    "17행: Pm내에서 d보다 작은 최근접쌍 거리 찾기"
   ]
  },
  {
   "cell_type": "code",
   "execution_count": null,
   "metadata": {},
   "outputs": [],
   "source": [
    "def strip_closest(P,d):\n",
    "    n = len(P)\n",
    "    d_min = d\n",
    "    P.sort(key = lambda point : point[1])\n",
    "\n",
    "    for i in range(n):\n",
    "        j = i + 1\n",
    "        while j < n and (P[j][1] - P[i][1]) < d_min:\n",
    "            dij=distance(P[i],P[j])\n",
    "            if dij < d_min:\n",
    "                d_min=dij\n",
    "            j += 1\n",
    "    return d_min\n",
    "\n",
    "\n",
    "    \n",
    "def closest_pair_dist(P,n):\n",
    "    if n <= 3:\n",
    "        return closest_pair(P)\n",
    "    \n",
    "    mid = n // 2\n",
    "    mid_x = P[mid][0]\n",
    "\n",
    "    dl = closest_pair_dist(P[:mid], mid)\n",
    "    dr = closest_pair_dist(P[mid:], n-mid)\n",
    "    d = min(dl,dr)\n",
    "\n",
    "    Pm = []\n",
    "\n",
    "    for i in range(n):\n",
    "        if abs(P[i][0]-mid_x)<d:\n",
    "            Pm.append(P[i])\n",
    "\n",
    "    ds = strip_closest(Pm,d)\n",
    "    return ds"
   ]
  },
  {
   "cell_type": "code",
   "execution_count": null,
   "metadata": {},
   "outputs": [],
   "source": [
    "import math\n",
    "def distance(p1,p2):\n",
    "    return math.sqrt((p1[0]-p2[0])**2+(p1[1]-p2[1])**2)\n",
    "\n",
    "def closest_pair(p):\n",
    "    n=len(p)\n",
    "    mindist=float(\"inf\")\n",
    "    for i in range(n-1):\n",
    "        for j in range(i+1,n):\n",
    "            dist = distance(p[i],p[j])\n",
    "            if dist < mindist:\n",
    "                mindist = dist\n",
    "    return mindist\n",
    "\n",
    "\n",
    "\n",
    "def strip_closest(P,d):\n",
    "    n = len(P)\n",
    "    d_min = d\n",
    "    P.sort(key = lambda point : point[1])\n",
    "\n",
    "    for i in range(n):\n",
    "        j = i + 1\n",
    "        while j < n and (P[j][1] - P[i][1]) < d_min:\n",
    "            dij=distance(P[i],P[j])\n",
    "            if dij < d_min:\n",
    "                d_min=dij\n",
    "            j += 1\n",
    "    return d_min\n",
    "\n",
    "\n",
    "    \n",
    "def closest_pair_dist(P,n):\n",
    "    if n <= 3:\n",
    "        return closest_pair(P)\n",
    "    \n",
    "    mid = n // 2\n",
    "    mid_x = P[mid][0]\n",
    "\n",
    "    dl = closest_pair_dist(P[:mid], mid)\n",
    "    dr = closest_pair_dist(P[mid:], n-mid)\n",
    "    d = min(dl,dr)\n",
    "\n",
    "    Pm = []\n",
    "\n",
    "    for i in range(n):\n",
    "        if abs(P[i][0]-mid_x)<d:\n",
    "            Pm.append(P[i])\n",
    "\n",
    "    ds = strip_closest(Pm,d)\n",
    "    return ds\n",
    "\n",
    "p=[(2,3),(12,30),(40,50),(5,1),(12,10),(3,4)]\n",
    "p.sort(key = lambda point: point[0])\n",
    "print(\"가장 가까운 두 점의 거리\",closest_pair_dist(p,len(p)))"
   ]
  },
  {
   "cell_type": "markdown",
   "metadata": {},
   "source": [
    "![poster](./5.8~9.png)"
   ]
  },
  {
   "cell_type": "markdown",
   "metadata": {},
   "source": [
    "5.8 복잡도 = O(n^2), 5.9 복잡도 = O(n(log2n)^2)"
   ]
  }
 ],
 "metadata": {
  "language_info": {
   "name": "python"
  }
 },
 "nbformat": 4,
 "nbformat_minor": 2
}
