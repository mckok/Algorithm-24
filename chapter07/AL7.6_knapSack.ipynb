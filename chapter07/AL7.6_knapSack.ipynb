{
 "cells": [
  {
   "cell_type": "markdown",
   "metadata": {},
   "source": [
    "0-1 배낭 채우기 알고리즘"
   ]
  },
  {
   "cell_type": "markdown",
   "metadata": {},
   "source": [
    "동적 계획법을 사용한 알고리즘."
   ]
  },
  {
   "cell_type": "markdown",
   "metadata": {},
   "source": [
    "![poster](7.6%20손.jpg)"
   ]
  },
  {
   "cell_type": "markdown",
   "metadata": {},
   "source": [
    "1행: 알고리즘의 입력은 알고리즘 7.5에서와 동일하다.  \n",
    "2행: (n+1) x (W+1) 크기의 2차원 리스트를 생성하고 모든 항목을 0으로 초기화 한다.  \n",
    "6~7행: 만약 i 번째 물건이 배낭 용량을 초과하면, 이 물건을 제외한 남은 물건을 고려한 경우의 최대 가치를 구하면 된다. 그런데 이 값은 이미 계산되어 있다.  \n",
    "8~11행: 만약 그렇지 않다면, 이 항목을 넣은 경우의 가치합과 넣지 않는 경우의 가치합을 계산한다. 이들도 당연히 이미 계산되어 있어 표에서 참조하면 된다"
   ]
  },
  {
   "cell_type": "code",
   "execution_count": null,
   "metadata": {},
   "outputs": [],
   "source": [
    "def knapSack_dp(W, wt, val, n):\n",
    "    A = [[0 for x in range(W + 1)] for x in range(n + 1)]\n",
    "    \n",
    "    for i in range(1, n + 1):\n",
    "        for w in range(1, W + 1):\n",
    "            if wt[i-1] > w:\n",
    "                A[i][w] = A[i-1][w]\n",
    "            else:\n",
    "                valWith = val[i-1] + A[i-1][w - wt[i-1]]\n",
    "                valWithout = A[i-1][w]\n",
    "                A[i][w] = max(valWith, valWithout)\n",
    "                \n",
    "    return A[n][W]"
   ]
  },
  {
   "cell_type": "code",
   "execution_count": null,
   "metadata": {},
   "outputs": [],
   "source": [
    "def knapSack_dc(W, wt, val, n):\n",
    "    if n == 0 or W == 0:\n",
    "        return 0\n",
    "    \n",
    "    if wt[n-1] > W:\n",
    "        return knapSack_dc(W, wt, val, n-1)\n",
    "    else:\n",
    "        valWithout = knapSack_dc(W, wt, val, n-1)\n",
    "        valWith = val[n-1] + knapSack_dc(W - wt[n-1], wt, val, n-1)\n",
    "        return max(valWith, valWithout)\n",
    "\n",
    "def knapSack_dp(W, wt, val, n):\n",
    "    A = [[0 for x in range(W + 1)] for x in range(n + 1)]\n",
    "    \n",
    "    for i in range(1, n + 1):\n",
    "        for w in range(1, W + 1):\n",
    "            if wt[i-1] > w:\n",
    "                A[i][w] = A[i-1][w]\n",
    "            else:\n",
    "                valWith = val[i-1] + A[i-1][w - wt[i-1]]\n",
    "                valWithout = A[i-1][w]\n",
    "                A[i][w] = max(valWith, valWithout)\n",
    "                \n",
    "    return A[n][W]\n",
    "\n",
    "val = [60, 100, 190, 120, 200, 150]\n",
    "wt = [2, 5, 8, 4, 7, 6]\n",
    "W = 18\n",
    "n = len(val)\n",
    "print(\"0-1배낭문제(분할 정복):\", knapSack_dc(W, wt, val, n))\n",
    "print(\"0-1배낭문제(동적 계획):\", knapSack_dp(W, wt, val, n))\n"
   ]
  },
  {
   "cell_type": "markdown",
   "metadata": {},
   "source": [
    "![poster](7.5~6%20실행코드.png)"
   ]
  },
  {
   "cell_type": "markdown",
   "metadata": {},
   "source": [
    "시간 복잡도는 O(nW)"
   ]
  }
 ],
 "metadata": {
  "language_info": {
   "name": "python"
  }
 },
 "nbformat": 4,
 "nbformat_minor": 2
}
