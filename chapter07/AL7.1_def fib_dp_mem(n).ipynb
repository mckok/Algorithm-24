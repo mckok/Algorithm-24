{
 "cells": [
  {
   "cell_type": "markdown",
   "metadata": {},
   "source": [
    "피보나치수열(메모이제이션 이용)"
   ]
  },
  {
   "cell_type": "markdown",
   "metadata": {},
   "source": [
    "함수의 결과를 저장할 메모리 공간을 준비해 두고, 한번 계산한 값을 저장해 두었다가 재활용하는 최적화 기법을 메모이제이션이라고 한다."
   ]
  },
  {
   "cell_type": "markdown",
   "metadata": {},
   "source": [
    "![poster](./7.1%20손.jpg)"
   ]
  },
  {
   "cell_type": "markdown",
   "metadata": {},
   "source": [
    "2행: 아직 풀리지않은 문제인지 검사한다. mem은 크기가 n+1인 리스트로 전역변수로 선언되어 있어야 한다.  \n",
    "3~6행: 아직 풀리지 않았다면 풀어야 한다. 먼저 순환식의 초기 조건을 검사해 해당하면 결과를 바로 계산한다. 일반 상황이면 순환 호ㅜㄹ한다.  \n",
    "7행: 이미 풀린 경우이거나, 3~6행을 통해 처음 푼 경우 모두 결과는 mem에 저장되어있다."
   ]
  },
  {
   "cell_type": "code",
   "execution_count": null,
   "metadata": {},
   "outputs": [],
   "source": [
    "def fib_dp_mem(n):\n",
    "    if mem[n] is None:\n",
    "        if n < 2:\n",
    "            mem[n] = n\n",
    "        else:\n",
    "            mem[n] = fib_dp_mem(n - 1) + fib_dp_mem(n - 2)\n",
    "    return mem[n]"
   ]
  },
  {
   "cell_type": "code",
   "execution_count": null,
   "metadata": {},
   "outputs": [],
   "source": [
    "def fib_dp_mem(n):\n",
    "    if mem[n] is None:\n",
    "        if n < 2:\n",
    "            mem[n] = n\n",
    "        else:\n",
    "            mem[n] = fib_dp_mem(n - 1) + fib_dp_mem(n - 2)\n",
    "    return mem[n]\n",
    "\n",
    "def fib_dp_tab(n):\n",
    "    f = [None] * (n + 1)\n",
    "    f[0] = 0\n",
    "    f[1] = 1\n",
    "    for i in range(2, n + 1):\n",
    "        f[i] = f[i - 1] + f[i - 2]\n",
    "    return f[n]\n",
    "\n",
    "n = 8\n",
    "print('동적계획( 테이블화 ): Fibonacci(%d) = ' % n, fib_dp_tab(n))\n",
    "mem = [None] * (n + 1)\n",
    "print('동적계획(메모이제이션): Fibonacci(%d) = ' % n, fib_dp_mem(n))"
   ]
  },
  {
   "cell_type": "markdown",
   "metadata": {},
   "source": [
    "![poster](./7.1~2%20실행코드.png)"
   ]
  },
  {
   "cell_type": "markdown",
   "metadata": {},
   "source": [
    "시간 복잡도는 O(n)"
   ]
  },
  {
   "cell_type": "markdown",
   "metadata": {},
   "source": [
    "aa"
   ]
  }
 ],
 "metadata": {
  "language_info": {
   "name": "python"
  }
 },
 "nbformat": 4,
 "nbformat_minor": 2
}
