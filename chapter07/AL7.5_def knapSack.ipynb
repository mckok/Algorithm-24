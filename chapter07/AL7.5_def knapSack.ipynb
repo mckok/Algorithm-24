{
 "cells": [
  {
   "cell_type": "markdown",
   "metadata": {},
   "source": [
    "0-1 배낭 채우기 알고리즘"
   ]
  },
  {
   "cell_type": "markdown",
   "metadata": {},
   "source": [
    "분할 정복 기법 사용"
   ]
  },
  {
   "cell_type": "markdown",
   "metadata": {},
   "source": [
    "![poster](./7.5%20손.jpg)"
   ]
  },
  {
   "cell_type": "markdown",
   "metadata": {},
   "source": [
    "1행: W는 현재 배낭의 용량, wt는 물건들의 무게를 저장한 리스트, ㅍ미은 물건들의 가치를 저장한 리스트, n은 물건들의 수이다.  \n",
    "2~3행: 기반 상황으로 물건이 없거나 배낭 용량이 0이면 최대가치는 0이다.  \n",
    "5~6행:만약 n번째 항목이 배낭 용량보다 크면, 이 항목은 배낭에 넣을수 없다."
   ]
  },
  {
   "cell_type": "code",
   "execution_count": null,
   "metadata": {},
   "outputs": [],
   "source": [
    "def knapSack_dc(W, wt, val, n):\n",
    "    if n == 0 or W == 0:\n",
    "        return 0\n",
    "    \n",
    "    if wt[n-1] > W:\n",
    "        return knapSack_dc(W, wt, val, n-1)\n",
    "    else:\n",
    "        valWithout = knapSack_dc(W, wt, val, n-1)\n",
    "        valWith = val[n-1] + knapSack_dc(W - wt[n-1], wt, val, n-1)\n",
    "        return max(valWith, valWithout)\n"
   ]
  },
  {
   "cell_type": "code",
   "execution_count": null,
   "metadata": {},
   "outputs": [],
   "source": [
    "def knapSack_dc(W, wt, val, n):\n",
    "    if n == 0 or W == 0:\n",
    "        return 0\n",
    "    \n",
    "    if wt[n-1] > W:\n",
    "        return knapSack_dc(W, wt, val, n-1)\n",
    "    else:\n",
    "        valWithout = knapSack_dc(W, wt, val, n-1)\n",
    "        valWith = val[n-1] + knapSack_dc(W - wt[n-1], wt, val, n-1)\n",
    "        return max(valWith, valWithout)\n",
    "\n",
    "def knapSack_dp(W, wt, val, n):\n",
    "    A = [[0 for x in range(W + 1)] for x in range(n + 1)]\n",
    "    \n",
    "    for i in range(1, n + 1):\n",
    "        for w in range(1, W + 1):\n",
    "            if wt[i-1] > w:\n",
    "                A[i][w] = A[i-1][w]\n",
    "            else:\n",
    "                valWith = val[i-1] + A[i-1][w - wt[i-1]]\n",
    "                valWithout = A[i-1][w]\n",
    "                A[i][w] = max(valWith, valWithout)\n",
    "                \n",
    "    return A[n][W]\n",
    "\n",
    "val = [60, 100, 190, 120, 200, 150]\n",
    "wt = [2, 5, 8, 4, 7, 6]\n",
    "W = 18\n",
    "n = len(val)\n",
    "print(\"0-1배낭문제(분할 정복):\", knapSack_dc(W, wt, val, n))\n",
    "print(\"0-1배낭문제(동적 계획):\", knapSack_dp(W, wt, val, n))\n"
   ]
  },
  {
   "cell_type": "markdown",
   "metadata": {},
   "source": [
    "![poster](7.5~6%20실행코드.png)"
   ]
  },
  {
   "cell_type": "markdown",
   "metadata": {},
   "source": [
    "시간 복잡도는 O(nW)"
   ]
  }
 ],
 "metadata": {
  "language_info": {
   "name": "python"
  }
 },
 "nbformat": 4,
 "nbformat_minor": 2
}
