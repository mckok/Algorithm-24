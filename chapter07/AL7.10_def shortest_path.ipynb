{
 "cells": [
  {
   "cell_type": "markdown",
   "metadata": {},
   "source": [
    "Floyd의 최단경로 탐색 알고리즘"
   ]
  },
  {
   "cell_type": "markdown",
   "metadata": {},
   "source": [
    "인덱스가 0으로 시작하는 것과 리스트의 리스트로 구현된 이차원 인접 행렬 W 를 같은 형태의 D행렬에 복사하는 코드에 유의하라."
   ]
  },
  {
   "cell_type": "markdown",
   "metadata": {},
   "source": [
    "![poster](7.10%20손.jpg)"
   ]
  },
  {
   "cell_type": "markdown",
   "metadata": {},
   "source": [
    "1행: 2차원 배열의 깊은 복사를 위해 copy 모듈을 포함한다.  \n",
    "2행: 정점 리스트 vertex와 인접 행렬 W가 입력된다.  \n",
    "4행: 맨 처음에 최단거리 행렬은 인접 행렬과 같다.  \n",
    "6~8행: 모든 정점에 대해 최단거리 행렬의 모든 한을 갱신한다."
   ]
  },
  {
   "cell_type": "code",
   "execution_count": null,
   "metadata": {},
   "outputs": [],
   "source": [
    "import copy\n",
    "def shortest_path_floyd(vertex, W):\n",
    "    vsize = len(vertex)\n",
    "    D = copy.deepcopy(W)\n",
    "    \n",
    "    for k in range(vsize) :\n",
    "        for i in range(vsize) :\n",
    "            for j in range(vsize):\n",
    "                if (D[i][k] + D[k][j] < D[i][j]):\n",
    "                    D[i][j] = D[i][k] + D[k][j]\n",
    "        printD(D)"
   ]
  },
  {
   "cell_type": "code",
   "execution_count": null,
   "metadata": {},
   "outputs": [],
   "source": [
    "import copy\n",
    "def shortest_path_floyd(vertex, W):\n",
    "    vsize = len(vertex)\n",
    "    D = copy.deepcopy(W)\n",
    "    \n",
    "    for k in range(vsize) :\n",
    "        for i in range(vsize) :\n",
    "            for j in range(vsize):\n",
    "                if (D[i][k] + D[k][j] < D[i][j]):\n",
    "                    D[i][j] = D[i][k] + D[k][j]\n",
    "        printD(D)\n",
    "def printD(D):\n",
    "    vsize = len(D)\n",
    "    print(\"====================================\")\n",
    "    for i in range(vsize) :\n",
    "        for j in range(vsize):\n",
    "            if(D[i][j] == INF) : print(\"INF\", end='')\n",
    "            else : print(\"%4d \"%D[i][j], end='')\n",
    "        print(\"\")\n",
    "INF = 9999\n",
    "vertex = [ 'A', 'B', 'C', 'D', 'E', 'F', 'G' ]\n",
    "weight =[[  0,   7, INF, INF, 3, 10, INF ],\n",
    "         [  7, 0, 4, 10, 2, 6, INF ],\n",
    "         [INF, 4, 0, 2, INF, INF, INF],\n",
    "         [INF, 10, 2, 0, 11, 9, 4],\n",
    "         [  3, 2, INF, 11, 0, 13, 5],\n",
    "         [ 10, 6, INF, 9, 13, 0, INF],\n",
    "         [INF, INF, INF, 4, 5, INF, 0]]\n",
    "print(\"Shortest Path By Floyd'sAlgorithm\")\n",
    "shortest_path_floyd(vertex, weight)"
   ]
  },
  {
   "cell_type": "markdown",
   "metadata": {},
   "source": [
    "![poster](7.10%20실행코드.png)"
   ]
  },
  {
   "cell_type": "markdown",
   "metadata": {},
   "source": [
    "시간 복잡도는 O(n^3)"
   ]
  }
 ],
 "metadata": {
  "language_info": {
   "name": "python"
  }
 },
 "nbformat": 4,
 "nbformat_minor": 2
}
