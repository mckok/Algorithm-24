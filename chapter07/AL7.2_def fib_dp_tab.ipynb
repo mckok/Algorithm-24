{
 "cells": [
  {
   "cell_type": "markdown",
   "metadata": {},
   "source": [
    "피보나치수열(테이블화 이용)"
   ]
  },
  {
   "cell_type": "markdown",
   "metadata": {},
   "source": [
    "알고리즘은 순환호출을 사용하지 않고, 5행에서 N번 반복하는 하나의 루프를 사용한다."
   ]
  },
  {
   "cell_type": "markdown",
   "metadata": {},
   "source": [
    "![poster](./7.2%20손.jpg)"
   ]
  },
  {
   "cell_type": "markdown",
   "metadata": {},
   "source": [
    "2~4행: n+1 크기의 리스트를 만들고 일단 모든 항목들을 None으로 초기화한다. 다음으로 기반 상황에 대한답을 저장한다.  \n",
    "5~6행: 상향식으로 답을 테이블에 저장해나간다. 5행의 for 문에서 i가 2, 3, 4와 같이 증가하는 것에 유의하라."
   ]
  },
  {
   "cell_type": "code",
   "execution_count": null,
   "metadata": {},
   "outputs": [],
   "source": [
    "fib_dp_tab(n):\n",
    "    f = [None] * (n + 1)\n",
    "    f[0] = 0\n",
    "    f[1] = 1\n",
    "    for i in range(2, n + 1):\n",
    "        f[i] = f[i - 1] + f[i - 2]\n",
    "    return f[n]"
   ]
  },
  {
   "cell_type": "code",
   "execution_count": null,
   "metadata": {},
   "outputs": [],
   "source": [
    "def fib_dp_mem(n):\n",
    "    if mem[n] is None:\n",
    "        if n < 2:\n",
    "            mem[n] = n\n",
    "        else:\n",
    "            mem[n] = fib_dp_mem(n - 1) + fib_dp_mem(n - 2)\n",
    "    return mem[n]\n",
    "\n",
    "def fib_dp_tab(n):\n",
    "    f = [None] * (n + 1)\n",
    "    f[0] = 0\n",
    "    f[1] = 1\n",
    "    for i in range(2, n + 1):\n",
    "        f[i] = f[i - 1] + f[i - 2]\n",
    "    return f[n]\n",
    "\n",
    "n = 8\n",
    "print('동적계획( 테이블화 ): Fibonacci(%d) = ' % n, fib_dp_tab(n))\n",
    "mem = [None] * (n + 1)\n",
    "print('동적계획(메모이제이션): Fibonacci(%d) = ' % n, fib_dp_mem(n))"
   ]
  },
  {
   "cell_type": "markdown",
   "metadata": {},
   "source": [
    "![poster](./7.1~2%20실행코드.png)"
   ]
  },
  {
   "cell_type": "markdown",
   "metadata": {},
   "source": [
    "시간 복잡도는 O(n)"
   ]
  }
 ],
 "metadata": {
  "language_info": {
   "name": "python"
  }
 },
 "nbformat": 4,
 "nbformat_minor": 2
}
